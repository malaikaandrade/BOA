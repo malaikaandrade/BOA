{
 "cells": [
  {
   "cell_type": "markdown",
   "metadata": {},
   "source": [
    "Funciones en Python\n"
   ]
  },
  {
   "cell_type": "code",
   "execution_count": 16,
   "metadata": {},
   "outputs": [],
   "source": [
    "class Operaciones(object):\n",
    "    def suma(self,x,y):\n",
    "        self.resultado = x+y\n",
    "        return self.resultado\n",
    "    def multiplicacion(self,x,y):\n",
    "        self.resultado = x*y\n",
    "        return self.resultado\n",
    "    def division(self,x,y):\n",
    "        self.resultado = x/y\n",
    "        return self.resultado\n",
    "    def resta (self,x,y):\n",
    "        self.resultado = x-y\n",
    "        return self.resultado"
   ]
  },
  {
   "cell_type": "code",
   "execution_count": 17,
   "metadata": {},
   "outputs": [
    {
     "data": {
      "text/plain": [
       "-1"
      ]
     },
     "execution_count": 17,
     "metadata": {},
     "output_type": "execute_result"
    }
   ],
   "source": [
    "operInstance = Operaciones()\n",
    "\n",
    "operInstance.suma(3,4)\n",
    "\n",
    "operInstance.multiplicacion(3,9)\n",
    "\n",
    "operInstance.division(3,4)\n",
    "\n",
    "operInstance.resta(3,4)"
   ]
  },
  {
   "cell_type": "code",
   "execution_count": 18,
   "metadata": {},
   "outputs": [
    {
     "data": {
      "text/plain": [
       "27"
      ]
     },
     "execution_count": 18,
     "metadata": {},
     "output_type": "execute_result"
    }
   ],
   "source": [
    "operInstance.multiplicacion(3,9)"
   ]
  },
  {
   "cell_type": "code",
   "execution_count": 19,
   "metadata": {},
   "outputs": [
    {
     "data": {
      "text/plain": [
       "0.75"
      ]
     },
     "execution_count": 19,
     "metadata": {},
     "output_type": "execute_result"
    }
   ],
   "source": [
    "operInstance.division(3,4)"
   ]
  },
  {
   "cell_type": "code",
   "execution_count": 20,
   "metadata": {},
   "outputs": [
    {
     "data": {
      "text/plain": [
       "-1"
      ]
     },
     "execution_count": 20,
     "metadata": {},
     "output_type": "execute_result"
    }
   ],
   "source": [
    "operInstance.resta(3,4)"
   ]
  },
  {
   "cell_type": "code",
   "execution_count": 26,
   "metadata": {},
   "outputs": [],
   "source": [
    "def saludar():\n",
    "    name=str(input('Introduce tu nombre: '))\n",
    "    if name:\n",
    "        print(\"Hola \"+ name)\n",
    "    else:\n",
    "        print('Hola, estoy programando')\n",
    "        return\n",
    "    "
   ]
  },
  {
   "cell_type": "code",
   "execution_count": 27,
   "metadata": {},
   "outputs": [
    {
     "name": "stdout",
     "output_type": "stream",
     "text": [
      "Introduce tu nombre: Malaika\n",
      "Hola Malaika\n"
     ]
    }
   ],
   "source": [
    "saludar()"
   ]
  },
  {
   "cell_type": "code",
   "execution_count": 53,
   "metadata": {},
   "outputs": [],
   "source": [
    "def buscaPares():\n",
    "    for x in range(0,10):\n",
    "        if x %2 == 0:\n",
    "            print(x)"
   ]
  },
  {
   "cell_type": "code",
   "execution_count": 52,
   "metadata": {},
   "outputs": [
    {
     "name": "stdout",
     "output_type": "stream",
     "text": [
      "4\n",
      "78\n",
      "9\n",
      "84\n"
     ]
    }
   ],
   "source": [
    "nums = (4, 78, 9, 84)\n",
    "for n in nums:\n",
    "    print(n)"
   ]
  },
  {
   "cell_type": "code",
   "execution_count": 57,
   "metadata": {},
   "outputs": [
    {
     "name": "stdout",
     "output_type": "stream",
     "text": [
      "0\n",
      "2\n",
      "4\n",
      "6\n",
      "8\n",
      "10\n",
      "12\n",
      "14\n",
      "16\n",
      "18\n"
     ]
    }
   ],
   "source": [
    "def buscaPares():\n",
    "    for x in range(0,19):\n",
    "        if x %2 == 0:\n",
    "            print(x)\n",
    "buscaPares()"
   ]
  },
  {
   "cell_type": "code",
   "execution_count": 74,
   "metadata": {},
   "outputs": [
    {
     "name": "stdout",
     "output_type": "stream",
     "text": [
      "Hola me llamo lazaro y tengo 6\n",
      "Hola me llamo lazaro y tengo 8\n",
      "Hola\n",
      "Hola, lazaro\n"
     ]
    }
   ],
   "source": [
    "class Perro:\n",
    "    def __init__(self,edad):\n",
    "        #self.raza = ('labrador')\n",
    "        #self.color = ('miel')\n",
    "        self.edad = edad\n",
    "        #self.sexo = ('masculino')\n",
    "        \n",
    "    def hablar(self,mensaje):\n",
    "        print (mensaje)\n",
    "        \n",
    "tres = Perro(8)\n",
    "lazaro = Perro(6)\n",
    "\n",
    "#print('Hola soy un perro llamado tres y soy de color ', tres.color)\n",
    "#print('Hola me llamo lazaro y soy un perro de raza',lazaro.raza)\n",
    "print('Hola me llamo lazaro y tengo',lazaro.edad)\n",
    "print('Hola me llamo lazaro y tengo',tres.edad)\n",
    "\n",
    "tres.hablar('Hola')\n",
    "lazaro.hablar('Hola, lazaro')"
   ]
  },
  {
   "cell_type": "code",
   "execution_count": null,
   "metadata": {},
   "outputs": [],
   "source": []
  },
  {
   "cell_type": "code",
   "execution_count": null,
   "metadata": {},
   "outputs": [],
   "source": []
  }
 ],
 "metadata": {
  "kernelspec": {
   "display_name": "Python 3",
   "language": "python",
   "name": "python3"
  },
  "language_info": {
   "codemirror_mode": {
    "name": "ipython",
    "version": 3
   },
   "file_extension": ".py",
   "mimetype": "text/x-python",
   "name": "python",
   "nbconvert_exporter": "python",
   "pygments_lexer": "ipython3",
   "version": "3.8.3"
  }
 },
 "nbformat": 4,
 "nbformat_minor": 4
}
